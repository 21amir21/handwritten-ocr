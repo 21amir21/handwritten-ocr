{
 "cells": [
  {
   "cell_type": "code",
   "execution_count": 2,
   "metadata": {},
   "outputs": [
    {
     "name": "stderr",
     "output_type": "stream",
     "text": [
      "c:\\Users\\Amir\\anaconda3\\lib\\site-packages\\numpy\\_distributor_init.py:30: UserWarning: loaded more than 1 DLL from .libs:\n",
      "c:\\Users\\Amir\\anaconda3\\lib\\site-packages\\numpy\\.libs\\libopenblas.WCDJNK7YVMPZQ2ME2ZZHJJRJ3JIKNDB7.gfortran-win_amd64.dll\n",
      "c:\\Users\\Amir\\anaconda3\\lib\\site-packages\\numpy\\.libs\\libopenblas64__v0.3.21-gcc_10_3_0.dll\n",
      "  warnings.warn(\"loaded more than 1 DLL from .libs:\"\n"
     ]
    }
   ],
   "source": [
    "#import required libraries\n",
    "import numpy as np\n",
    "import pandas as pd\n",
    "import matplotlib.pyplot as plt\n",
    "import cv2\n",
    "from sklearn.ensemble import RandomForestClassifier\n",
    "from sklearn.metrics import accuracy_score\n",
    "from sklearn.metrics import confusion_matrix\n",
    "from sklearn.model_selection import cross_val_score\n",
    "from sklearn.model_selection import train_test_split"
   ]
  },
  {
   "cell_type": "code",
   "execution_count": 3,
   "metadata": {},
   "outputs": [],
   "source": [
    "#read train and test files\n",
    "train_file = pd.read_csv('emnist-letters-train.csv')\n",
    "test_file = pd.read_csv('emnist-letters-test.csv')"
   ]
  },
  {
   "cell_type": "code",
   "execution_count": 4,
   "metadata": {},
   "outputs": [
    {
     "name": "stdout",
     "output_type": "stream",
     "text": [
      "(88799, 785)\n",
      "(14799, 785)\n"
     ]
    },
    {
     "data": {
      "text/html": [
       "<div>\n",
       "<style scoped>\n",
       "    .dataframe tbody tr th:only-of-type {\n",
       "        vertical-align: middle;\n",
       "    }\n",
       "\n",
       "    .dataframe tbody tr th {\n",
       "        vertical-align: top;\n",
       "    }\n",
       "\n",
       "    .dataframe thead th {\n",
       "        text-align: right;\n",
       "    }\n",
       "</style>\n",
       "<table border=\"1\" class=\"dataframe\">\n",
       "  <thead>\n",
       "    <tr style=\"text-align: right;\">\n",
       "      <th></th>\n",
       "      <th>23</th>\n",
       "      <th>0</th>\n",
       "      <th>0.1</th>\n",
       "      <th>0.2</th>\n",
       "      <th>0.3</th>\n",
       "      <th>0.4</th>\n",
       "      <th>0.5</th>\n",
       "      <th>0.6</th>\n",
       "      <th>0.7</th>\n",
       "      <th>0.8</th>\n",
       "      <th>...</th>\n",
       "      <th>0.406</th>\n",
       "      <th>0.407</th>\n",
       "      <th>0.408</th>\n",
       "      <th>0.409</th>\n",
       "      <th>0.410</th>\n",
       "      <th>0.411</th>\n",
       "      <th>0.412</th>\n",
       "      <th>0.413</th>\n",
       "      <th>0.414</th>\n",
       "      <th>0.415</th>\n",
       "    </tr>\n",
       "  </thead>\n",
       "  <tbody>\n",
       "    <tr>\n",
       "      <th>0</th>\n",
       "      <td>7</td>\n",
       "      <td>0</td>\n",
       "      <td>0</td>\n",
       "      <td>0</td>\n",
       "      <td>0</td>\n",
       "      <td>0</td>\n",
       "      <td>0</td>\n",
       "      <td>0</td>\n",
       "      <td>0</td>\n",
       "      <td>0</td>\n",
       "      <td>...</td>\n",
       "      <td>0</td>\n",
       "      <td>0</td>\n",
       "      <td>0</td>\n",
       "      <td>0</td>\n",
       "      <td>0</td>\n",
       "      <td>0</td>\n",
       "      <td>0</td>\n",
       "      <td>0</td>\n",
       "      <td>0</td>\n",
       "      <td>0</td>\n",
       "    </tr>\n",
       "    <tr>\n",
       "      <th>1</th>\n",
       "      <td>16</td>\n",
       "      <td>0</td>\n",
       "      <td>0</td>\n",
       "      <td>0</td>\n",
       "      <td>0</td>\n",
       "      <td>0</td>\n",
       "      <td>0</td>\n",
       "      <td>0</td>\n",
       "      <td>0</td>\n",
       "      <td>0</td>\n",
       "      <td>...</td>\n",
       "      <td>0</td>\n",
       "      <td>0</td>\n",
       "      <td>0</td>\n",
       "      <td>0</td>\n",
       "      <td>0</td>\n",
       "      <td>0</td>\n",
       "      <td>0</td>\n",
       "      <td>0</td>\n",
       "      <td>0</td>\n",
       "      <td>0</td>\n",
       "    </tr>\n",
       "    <tr>\n",
       "      <th>2</th>\n",
       "      <td>15</td>\n",
       "      <td>0</td>\n",
       "      <td>0</td>\n",
       "      <td>0</td>\n",
       "      <td>0</td>\n",
       "      <td>0</td>\n",
       "      <td>0</td>\n",
       "      <td>0</td>\n",
       "      <td>0</td>\n",
       "      <td>0</td>\n",
       "      <td>...</td>\n",
       "      <td>0</td>\n",
       "      <td>0</td>\n",
       "      <td>0</td>\n",
       "      <td>0</td>\n",
       "      <td>0</td>\n",
       "      <td>0</td>\n",
       "      <td>0</td>\n",
       "      <td>0</td>\n",
       "      <td>0</td>\n",
       "      <td>0</td>\n",
       "    </tr>\n",
       "    <tr>\n",
       "      <th>3</th>\n",
       "      <td>23</td>\n",
       "      <td>0</td>\n",
       "      <td>0</td>\n",
       "      <td>0</td>\n",
       "      <td>0</td>\n",
       "      <td>0</td>\n",
       "      <td>0</td>\n",
       "      <td>0</td>\n",
       "      <td>0</td>\n",
       "      <td>0</td>\n",
       "      <td>...</td>\n",
       "      <td>0</td>\n",
       "      <td>0</td>\n",
       "      <td>0</td>\n",
       "      <td>0</td>\n",
       "      <td>0</td>\n",
       "      <td>0</td>\n",
       "      <td>0</td>\n",
       "      <td>0</td>\n",
       "      <td>0</td>\n",
       "      <td>0</td>\n",
       "    </tr>\n",
       "    <tr>\n",
       "      <th>4</th>\n",
       "      <td>17</td>\n",
       "      <td>0</td>\n",
       "      <td>0</td>\n",
       "      <td>0</td>\n",
       "      <td>0</td>\n",
       "      <td>0</td>\n",
       "      <td>0</td>\n",
       "      <td>0</td>\n",
       "      <td>0</td>\n",
       "      <td>0</td>\n",
       "      <td>...</td>\n",
       "      <td>0</td>\n",
       "      <td>0</td>\n",
       "      <td>0</td>\n",
       "      <td>0</td>\n",
       "      <td>0</td>\n",
       "      <td>0</td>\n",
       "      <td>0</td>\n",
       "      <td>0</td>\n",
       "      <td>0</td>\n",
       "      <td>0</td>\n",
       "    </tr>\n",
       "  </tbody>\n",
       "</table>\n",
       "<p>5 rows × 785 columns</p>\n",
       "</div>"
      ],
      "text/plain": [
       "   23  0  0.1  0.2  0.3  0.4  0.5  0.6  0.7  0.8  ...  0.406  0.407  0.408  \\\n",
       "0   7  0    0    0    0    0    0    0    0    0  ...      0      0      0   \n",
       "1  16  0    0    0    0    0    0    0    0    0  ...      0      0      0   \n",
       "2  15  0    0    0    0    0    0    0    0    0  ...      0      0      0   \n",
       "3  23  0    0    0    0    0    0    0    0    0  ...      0      0      0   \n",
       "4  17  0    0    0    0    0    0    0    0    0  ...      0      0      0   \n",
       "\n",
       "   0.409  0.410  0.411  0.412  0.413  0.414  0.415  \n",
       "0      0      0      0      0      0      0      0  \n",
       "1      0      0      0      0      0      0      0  \n",
       "2      0      0      0      0      0      0      0  \n",
       "3      0      0      0      0      0      0      0  \n",
       "4      0      0      0      0      0      0      0  \n",
       "\n",
       "[5 rows x 785 columns]"
      ]
     },
     "execution_count": 4,
     "metadata": {},
     "output_type": "execute_result"
    }
   ],
   "source": [
    "#number of columns in each train and test files\n",
    "print (train_file.shape)\n",
    "print(test_file.shape)\n",
    "train_file.head()"
   ]
  },
  {
   "cell_type": "code",
   "execution_count": 5,
   "metadata": {},
   "outputs": [
    {
     "data": {
      "text/plain": [
       "25    3453\n",
       "11    3438\n",
       "5     3437\n",
       "24    3437\n",
       "20    3436\n",
       "17    3435\n",
       "16    3430\n",
       "9     3428\n",
       "26    3427\n",
       "8     3424\n",
       "22    3422\n",
       "23    3422\n",
       "21    3419\n",
       "3     3419\n",
       "18    3419\n",
       "12    3415\n",
       "15    3408\n",
       "10    3402\n",
       "13    3402\n",
       "4     3398\n",
       "2     3396\n",
       "1     3396\n",
       "6     3394\n",
       "19    3392\n",
       "7     3385\n",
       "14    3365\n",
       "Name: 23, dtype: int64"
      ]
     },
     "execution_count": 5,
     "metadata": {},
     "output_type": "execute_result"
    }
   ],
   "source": [
    "train_file[\"23\"].value_counts()"
   ]
  },
  {
   "cell_type": "code",
   "execution_count": 6,
   "metadata": {},
   "outputs": [],
   "source": [
    "#generate training data from train_file\n",
    "x_train = train_file.drop('23', axis=1)\n",
    "y_train = train_file['23']\n",
    "\n",
    "#generate testing data from test_file\n",
    "# x_test = test_file.drop('23', axis=1)\n",
    "# y_test = test_file['23']\n",
    "x_train, x_test, y_train, y_test = train_test_split(x_train, y_train, test_size=0.2, random_state=42)"
   ]
  },
  {
   "cell_type": "code",
   "execution_count": 7,
   "metadata": {},
   "outputs": [
    {
     "name": "stdout",
     "output_type": "stream",
     "text": [
      "(71039, 784)\n",
      "(71039,)\n",
      "(17760, 784)\n",
      "(17760,)\n"
     ]
    }
   ],
   "source": [
    "print(x_train.shape)\n",
    "print(y_train.shape)\n",
    "print(x_test.shape)\n",
    "print(y_test.shape)"
   ]
  },
  {
   "cell_type": "markdown",
   "metadata": {},
   "source": [
    "# Visualize Training Data"
   ]
  },
  {
   "cell_type": "code",
   "execution_count": 8,
   "metadata": {},
   "outputs": [
    {
     "data": {
      "text/plain": [
       "RandomForestClassifier(max_depth=100, min_samples_split=50, random_state=5)"
      ]
     },
     "execution_count": 8,
     "metadata": {},
     "output_type": "execute_result"
    }
   ],
   "source": [
    "#fit a Random Forest classifier\n",
    "clf = RandomForestClassifier(criterion=\"gini\",\n",
    "                           max_depth=100,\n",
    "                           min_samples_split=50,\n",
    "                           random_state=5)\n",
    "clf.fit(x_train, y_train)"
   ]
  },
  {
   "cell_type": "markdown",
   "metadata": {},
   "source": [
    "## Save the model to a file"
   ]
  },
  {
   "cell_type": "code",
   "execution_count": null,
   "metadata": {},
   "outputs": [],
   "source": [
    "from joblib import dump, load\n",
    "model_filename = 'random_forest_model.joblib'\n",
    "dump(clf, model_filename)"
   ]
  },
  {
   "cell_type": "markdown",
   "metadata": {},
   "source": [
    "## Load the model from the file"
   ]
  },
  {
   "cell_type": "code",
   "execution_count": null,
   "metadata": {},
   "outputs": [],
   "source": [
    "loaded_model = load(model_filename)"
   ]
  },
  {
   "cell_type": "code",
   "execution_count": 9,
   "metadata": {},
   "outputs": [
    {
     "name": "stdout",
     "output_type": "stream",
     "text": [
      "[ 1  4 24 ...  5 12 20]\n"
     ]
    }
   ],
   "source": [
    "y_pred = clf.predict(x_test)\n",
    "print(y_pred)"
   ]
  },
  {
   "cell_type": "code",
   "execution_count": 10,
   "metadata": {},
   "outputs": [
    {
     "name": "stdout",
     "output_type": "stream",
     "text": [
      "Validation Accuracy: 0.8366554054054054\n"
     ]
    }
   ],
   "source": [
    "print(\"Validation Accuracy: \" + str(accuracy_score(y_test, y_pred)))"
   ]
  },
  {
   "cell_type": "code",
   "execution_count": 11,
   "metadata": {},
   "outputs": [
    {
     "data": {
      "text/plain": [
       "array([[526,   1,   3,  11,   7,   3,   7,  25,   0,   4,   5,   0,  15,\n",
       "         10,  14,   2,  21,   2,   0,   2,   3,   0,  11,   0,   0,   6],\n",
       "       [  6, 587,   2,  21,   1,   4,   5,   7,   2,   0,   1,   2,   4,\n",
       "          3,   3,   1,   5,   0,   1,   1,   1,   0,   2,   0,   0,   4],\n",
       "       [  6,   0, 568,   1,  42,   1,   4,   0,   0,   0,   5,   6,   0,\n",
       "          2,   9,   2,   2,  10,   0,   0,   0,   0,   0,   0,   0,   1],\n",
       "       [  1,  23,   1, 541,   0,   2,   2,   1,   1,   7,   3,   2,   0,\n",
       "          2,  36,   9,   3,   0,   1,   2,   4,   4,   2,   3,   0,   2],\n",
       "       [  8,   1,  17,   1, 559,  12,   4,   1,   0,   0,   5,   2,   1,\n",
       "          2,   3,   2,   4,   4,   3,   2,   1,   0,   1,   0,   0,   9],\n",
       "       [  1,   0,   2,   4,   0, 569,   3,   5,   4,   3,   1,   9,   2,\n",
       "          1,   0,  26,   8,   6,   1,  23,   0,   0,   0,   1,   1,   2],\n",
       "       [ 18,  37,  10,   7,   3,   9, 416,   6,   2,  18,   1,   2,   9,\n",
       "          0,   4,   8, 104,   2,  25,   6,   1,   0,   5,   1,   8,   3],\n",
       "       [ 15,  11,   0,   9,   0,   1,   0, 559,   2,   0,  15,  11,   4,\n",
       "         25,   1,   0,   1,   1,   0,   3,   5,   4,   8,   3,   0,   0],\n",
       "       [  0,   0,   0,   2,   1,   1,   0,   1, 492,  24,   0, 169,   0,\n",
       "          0,   1,   2,   1,   0,   2,   5,   0,   0,   0,   3,   2,  19],\n",
       "       [  0,   2,   0,  17,   0,   3,   5,   1,  16, 632,   0,   8,   0,\n",
       "          0,   3,   1,   2,   1,   7,  14,   3,   4,   1,   0,   3,   2],\n",
       "       [  3,   5,   8,   5,   3,   2,   0,  25,   1,   0, 576,   4,   3,\n",
       "          2,   0,   1,   1,   2,   0,   3,   6,   2,   1,  19,   0,   1],\n",
       "       [  1,   4,  10,   3,   0,   1,   0,   4, 154,   6,   2, 531,   0,\n",
       "          0,   0,   2,   0,   3,   0,   1,   1,   0,   0,   2,   1,   6],\n",
       "       [  8,   0,   0,   0,   0,   0,   1,   7,   0,   0,   1,   0, 620,\n",
       "         22,   0,   0,   0,   0,   0,   0,   1,   1,   2,   0,   0,   0],\n",
       "       [ 26,   2,   0,   7,   0,   1,   0,  11,   0,   1,   5,   0,  21,\n",
       "        580,   2,   1,   3,   1,   0,   1,   8,   5,  11,   1,   0,   4],\n",
       "       [  3,   5,   0,  16,   1,   0,   0,   0,   0,   0,   0,   0,   2,\n",
       "          3, 654,   2,   3,   0,   0,   0,   1,   1,   1,   0,   0,   0],\n",
       "       [  5,   0,   0,   7,   0,   8,   0,   0,   1,   1,   0,   3,   0,\n",
       "          1,   4, 623,  12,   3,   0,   9,   1,   0,   1,   0,   8,   0],\n",
       "       [ 25,   4,   1,   6,   6,   6,  44,   4,   8,   4,   0,   1,   2,\n",
       "          1,  11,  11, 513,   5,   0,   7,   6,   0,   3,   2,   5,   2],\n",
       "       [ 26,   0,   2,   3,  25,   2,   0,   3,   1,   0,  32,   0,   0,\n",
       "          6,   1,  14,   6, 532,   0,  12,   0,   0,   1,  11,   8,   3],\n",
       "       [  1,   7,   1,   5,   1,   4,  14,   0,   0,  19,   1,   0,   1,\n",
       "          0,   4,   0,   1,   3, 605,   0,   0,   0,   1,   0,   1,   0],\n",
       "       [  2,   6,   4,   4,  16,  17,   1,   1,   4,   1,   3,  16,   1,\n",
       "          0,   0,   4,   0,  14,   0, 577,   1,   0,   2,   2,  14,  12],\n",
       "       [ 14,   1,   0,   4,   2,   0,   0,   4,   0,   1,   5,   0,   3,\n",
       "          2,   7,   2,   2,   0,   0,   0, 578,  19,   9,   0,   0,   2],\n",
       "       [  0,   1,   0,   2,   0,   0,   0,   0,   0,   2,   1,   0,   0,\n",
       "          1,   1,   2,   0,   8,   0,   2,  40, 606,   2,   1,  18,   0],\n",
       "       [  1,   1,   0,   2,   0,   0,   0,   1,   0,   0,   3,   2,   2,\n",
       "         16,   0,   0,   1,   0,   0,   1,   9,   7, 642,   0,   0,   0],\n",
       "       [  3,   0,   1,   1,   0,   3,   2,   5,   2,   3,  31,   2,   6,\n",
       "          3,   0,   1,   1,   0,   1,   8,   0,   6,   0, 578,  17,  10],\n",
       "       [  0,   4,   1,   1,   0,   2,   8,   1,   0,  13,   0,   6,   7,\n",
       "          0,   0,   5,   3,   9,   2,   8,   5,  27,   2,   2, 592,   1],\n",
       "       [ 10,   4,   6,   2,  19,   3,   4,   0,   0,   0,   3,   4,   2,\n",
       "          0,   0,   0,   1,   0,   2,   4,   0,   0,   0,   7,   0, 603]],\n",
       "      dtype=int64)"
      ]
     },
     "execution_count": 11,
     "metadata": {},
     "output_type": "execute_result"
    }
   ],
   "source": [
    "confusion_matrix(y_test, y_pred)"
   ]
  },
  {
   "cell_type": "code",
   "execution_count": 12,
   "metadata": {},
   "outputs": [
    {
     "data": {
      "text/plain": [
       "array([0.83255912, 0.83298142, 0.83002534, 0.83368525, 0.83163229])"
      ]
     },
     "execution_count": 12,
     "metadata": {},
     "output_type": "execute_result"
    }
   ],
   "source": [
    "cross_val_score(clf, x_train, y_train, cv=5)"
   ]
  },
  {
   "cell_type": "code",
   "execution_count": 21,
   "metadata": {},
   "outputs": [],
   "source": [
    "# image = cv2.imread(\"m.png\")\n",
    "\n",
    "\n",
    "# image = cv2.resize(image, (28, 28))\n",
    "\n",
    "\n",
    "# image_gray = cv2.cvtColor(image, cv2.COLOR_BGR2GRAY)\n",
    "\n",
    "# flipped_image = cv2.flip(image_gray, 1)\n",
    "\n",
    "# image_rotated = cv2.rotate(flipped_image, cv2.ROTATE_90_COUNTERCLOCKWISE)\n",
    "\n",
    "# npImage = np.array(image_rotated).flatten()\n",
    "\n",
    "\n",
    "# npImage = npImage.reshape(1, -1)  # Reshape to (1, 784) assuming it's a single image\n",
    "\n",
    "# imgList = [npImage]"
   ]
  },
  {
   "cell_type": "code",
   "execution_count": 22,
   "metadata": {},
   "outputs": [
    {
     "name": "stdout",
     "output_type": "stream",
     "text": [
      "[13]\n"
     ]
    },
    {
     "name": "stderr",
     "output_type": "stream",
     "text": [
      "c:\\Users\\Amir\\anaconda3\\lib\\site-packages\\sklearn\\base.py:450: UserWarning: X does not have valid feature names, but RandomForestClassifier was fitted with feature names\n",
      "  warnings.warn(\n"
     ]
    }
   ],
   "source": [
    "# predictions = clf.predict(npImage)\n",
    "# print(predictions)"
   ]
  },
  {
   "cell_type": "code",
   "execution_count": 19,
   "metadata": {},
   "outputs": [
    {
     "name": "stderr",
     "output_type": "stream",
     "text": [
      "c:\\Users\\Amir\\anaconda3\\lib\\site-packages\\sklearn\\base.py:450: UserWarning: X does not have valid feature names, but RandomForestClassifier was fitted with feature names\n",
      "  warnings.warn(\n"
     ]
    }
   ],
   "source": [
    "import tkinter as tk\n",
    "from tkinter import filedialog\n",
    "from PIL import Image, ImageTk\n",
    "import cv2\n",
    "import numpy as np\n",
    "\n",
    "\n",
    "prediction_mapping = {\n",
    "    1: 'A', 2: 'B', 3: 'C', 4: 'D', 5: 'E',\n",
    "    6: 'F', 7: 'G', 8: 'H', 9: 'I', 10: 'J',\n",
    "    11: 'K', 12: 'L', 13: 'M', 14: 'N', 15: 'O',\n",
    "    16: 'P', 17: 'Q', 18: 'R', 19: 'S', 20: 'T',\n",
    "    21: 'U', 22: 'V', 23: 'W', 24: 'X', 25: 'Y', 26: 'Z'\n",
    "}\n",
    "\n",
    "def browse_file():\n",
    "    # global filename_string\n",
    "    filename = filedialog.askopenfilename(\n",
    "        filetypes=[(\"Image files\", \"*.jpg;*.jpeg;*.png;*.gif\")]\n",
    "    )\n",
    "    if filename:\n",
    "        # filename_string.set(filename)  # Set the filename to the string variable\n",
    "        display_image(filename)\n",
    "\n",
    "def display_image(filename):\n",
    "    image = Image.open(filename)\n",
    "    image.thumbnail((500, 500))  # Resize image to fit in the window\n",
    "    photo = ImageTk.PhotoImage(image)\n",
    "\n",
    "    # Display the image in a label\n",
    "    label.config(image=photo)\n",
    "    label.image = photo  # Keep a reference to the image to prevent garbage collection\n",
    "\n",
    "    # Read the image using OpenCV with the selected filename\n",
    "    image_cv2 = cv2.imread(filename)\n",
    "    image_cv2 = cv2.resize(image_cv2, (28, 28))  # Resize the image\n",
    "    image_gray = cv2.cvtColor(image_cv2, cv2.COLOR_BGR2GRAY)\n",
    "    flipped_image = cv2.flip(image_gray, 1)\n",
    "    image_rotated = cv2.rotate(flipped_image, cv2.ROTATE_90_COUNTERCLOCKWISE)\n",
    "    npImage = np.array(image_rotated).flatten()\n",
    "    npImage = npImage.reshape(1, -1)  # Reshape to (1, 784) assuming it's a single image\n",
    "\n",
    "    # Perform prediction\n",
    "    predictions = clf.predict(npImage)\n",
    "\n",
    "    # Assuming predictions is a NumPy array with a single value\n",
    "    # Convert it to a single integer value\n",
    "    predicted_class = int(predictions[0])\n",
    "\n",
    "    # Map the predicted class to its alphabetical value\n",
    "    alphabetical_predictions = prediction_mapping[predicted_class]\n",
    "\n",
    "    # Update text entry with predictions\n",
    "    text_entry.delete(0, tk.END)  # Clear existing text\n",
    "    # text_entry.insert(0, str(predictions))  # Insert prediction result\n",
    "    text_entry.insert(0, alphabetical_predictions)  # Insert prediction result\n",
    "\n",
    "    \n",
    "    # root.update_idletasks()\n",
    "\n",
    "# Create the main application window\n",
    "root = tk.Tk()\n",
    "root.title(\"Random Forest OCR\")\n",
    "root.geometry(\"800x600\")  # Set initial window size\n",
    "\n",
    "# Create a button to browse for a photo\n",
    "browse_button = tk.Button(root, text=\"Browse Photo\", command=browse_file)\n",
    "browse_button.pack(pady=10)\n",
    "\n",
    "# Create a label to display the photo\n",
    "label = tk.Label(root)\n",
    "label.pack()\n",
    "\n",
    "# Add an empty text field below the image\n",
    "# filename_string = tk.StringVar() # String variable to hold the filename\n",
    "text_entry = tk.Entry(root)\n",
    "text_entry.pack(pady=10)\n",
    "\n",
    "# Start the Tkinter event loop\n",
    "root.mainloop()\n"
   ]
  }
 ],
 "metadata": {
  "kernelspec": {
   "display_name": "Python 3",
   "language": "python",
   "name": "python3"
  },
  "language_info": {
   "codemirror_mode": {
    "name": "ipython",
    "version": 3
   },
   "file_extension": ".py",
   "mimetype": "text/x-python",
   "name": "python",
   "nbconvert_exporter": "python",
   "pygments_lexer": "ipython3",
   "version": "3.9.13"
  }
 },
 "nbformat": 4,
 "nbformat_minor": 2
}
