{
 "cells": [
  {
   "cell_type": "code",
   "execution_count": null,
   "metadata": {},
   "outputs": [],
   "source": [
    "import os\n",
    "import tensorflow as tf\n",
    "from sklearn.model_selection import train_test_split\n",
    "import cv2\n",
    "import matplotlib.pyplot as plt\n",
    "import pandas as pd\n",
    "import numpy as np\n",
    "from emnist import extract_training_samples, extract_test_samples"
   ]
  },
  {
   "cell_type": "code",
   "execution_count": null,
   "metadata": {},
   "outputs": [],
   "source": [
    "# Load EMNIST data\n",
    "(X_train, y_train), (X_test, y_test) = (extract_training_samples('letters'), extract_test_samples('letters'))\n",
    "\n",
    "# Normalize the data\n",
    "X_train = tf.keras.utils.normalize(X_train, axis=1)\n",
    "X_test = tf.keras.utils.normalize(X_test, axis=1)"
   ]
  },
  {
   "cell_type": "code",
   "execution_count": null,
   "metadata": {},
   "outputs": [],
   "source": [
    "mnist = tf.keras.datasets.mnist\n",
    "(X_train, y_train), (X_test, y_test) = mnist.load_data()\n",
    "\n",
    "# Normalizing the data (making length = 1)\n",
    "X_train = tf.keras.utils.normalize(X_train, axis=1)\n",
    "X_test = tf.keras.utils.normalize(X_test, axis=1)"
   ]
  },
  {
   "cell_type": "code",
   "execution_count": null,
   "metadata": {},
   "outputs": [],
   "source": [
    "# Load EMNIST dataset\n",
    "emnist_train = pd.read_csv('emnist-letters-train.csv')\n",
    "emnist_test = pd.read_csv('emnist-letters-test.csv')"
   ]
  },
  {
   "cell_type": "code",
   "execution_count": null,
   "metadata": {},
   "outputs": [],
   "source": [
    "# Preprocess the data\n",
    "X_train = emnist_train.iloc[:, 1:].values.astype('float32') / 255.0  # Normalize pixel values\n",
    "y_train = emnist_train['label'].values\n",
    "X_test = emnist_test.iloc[:, 1:].values.astype('float32') / 255.0\n",
    "y_test = emnist_test['label'].values\n",
    "\n",
    "# Split the data into training and testing sets\n",
    "X_train, X_val, y_train, y_val = train_test_split(X_train, y_train, test_size=0.2, random_state=42)"
   ]
  },
  {
   "cell_type": "code",
   "execution_count": null,
   "metadata": {},
   "outputs": [],
   "source": [
    "# Create an artificial neural network model\n",
    "model = tf.keras.models.Sequential()\n",
    "# Add one flattened input layer for the pixels\n",
    "model.add(tf.keras.layers.Flatten(input_shape=X_train.shape[1:]))\n",
    "# Add two dense hidden layers\n",
    "model.add(tf.keras.layers.Dense(units=128, activation=\"relu\"))\n",
    "model.add(tf.keras.layers.Dense(units=128, activation=\"relu\"))\n",
    "# Add dropout layer to avoid overfitting\n",
    "model.add(tf.keras.layers.Dropout(0.5))\n",
    "# Add two dense hidden layers\n",
    "model.add(tf.keras.layers.Dense(units=128, activation=\"relu\"))\n",
    "model.add(tf.keras.layers.Dense(units=128, activation=\"relu\"))\n",
    "# Add one dense output layer for the 26 digits\n",
    "model.add(tf.keras.layers.Dense(units=26, activation=\"softmax\"))"
   ]
  },
  {
   "cell_type": "code",
   "execution_count": null,
   "metadata": {},
   "outputs": [],
   "source": [
    "# Compiling and optimizing model\n",
    "model.compile(optimizer='adam', loss='sparse_categorical_crossentropy', metrics=['accuracy'])"
   ]
  },
  {
   "cell_type": "code",
   "execution_count": null,
   "metadata": {},
   "outputs": [],
   "source": [
    "# Training the model\n",
    "model.fit(X_train, y_train, epochs=3)"
   ]
  },
  {
   "cell_type": "code",
   "execution_count": null,
   "metadata": {},
   "outputs": [],
   "source": [
    "# Evaluating the model\n",
    "val_loss, val_acc = model.evaluate(X_test, y_test)\n",
    "print(val_loss)\n",
    "print(val_acc)"
   ]
  },
  {
   "cell_type": "code",
   "execution_count": null,
   "metadata": {},
   "outputs": [],
   "source": [
    "# Saving the model\n",
    "model.save('handwrittenOCR.model')"
   ]
  },
  {
   "cell_type": "code",
   "execution_count": null,
   "metadata": {},
   "outputs": [],
   "source": [
    "#REPLACED WITH GUI\n",
    "# Load custom images and predict them\n",
    "image_number = 1\n",
    "while os.path.isfile('digits/digit{}.png'.format(image_number)):\n",
    "    try:\n",
    "        img = cv2.imread('digits/digit{}.png'.format(image_number))[:,:,0]\n",
    "        img = np.invert(np.array([img]))\n",
    "        prediction = model.predict(img)\n",
    "        print(\"The number is probably a {}\".format(np.argmax(prediction)))\n",
    "        plt.imshow(img[0], cmap=plt.cm.binary)\n",
    "        plt.show()\n",
    "        image_number += 1\n",
    "    except:\n",
    "        print(\"Error reading image! Proceeding with next image...\")\n",
    "        image_number += 1"
   ]
  }
 ],
 "metadata": {
  "kernelspec": {
   "display_name": "base",
   "language": "python",
   "name": "python3"
  },
  "language_info": {
   "codemirror_mode": {
    "name": "ipython",
    "version": 3
   },
   "file_extension": ".py",
   "mimetype": "text/x-python",
   "name": "python",
   "nbconvert_exporter": "python",
   "pygments_lexer": "ipython3",
   "version": "3.9.13"
  }
 },
 "nbformat": 4,
 "nbformat_minor": 2
}
